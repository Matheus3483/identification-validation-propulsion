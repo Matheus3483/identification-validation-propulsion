{
 "cells": [
  {
   "cell_type": "code",
   "execution_count": 1,
   "metadata": {},
   "outputs": [],
   "source": [
    "import numpy as np\n",
    "import matplotlib\n",
    "matplotlib.rcParams['text.usetex'] = True\n",
    "import matplotlib.pyplot as plt\n",
    "import pandas as pd\n",
    "from identification import *\n",
    "\n",
    "plt.style.use('default')"
   ]
  },
  {
   "cell_type": "markdown",
   "metadata": {},
   "source": [
    "# Validação dos modelos"
   ]
  },
  {
   "cell_type": "code",
   "execution_count": 2,
   "metadata": {
    "metadata": {}
   },
   "outputs": [],
   "source": [
    "df_data_n11 = pd.read_csv('../data/entrada_saida_nsenos_n11_111v.csv', header=None)\n",
    "\n",
    "df_theta_hat_2o = pd.read_csv('../data/theta_hat_2o_emax_111.csv', header=None)\n",
    "df_theta_hat_ed = pd.read_csv('../data/theta_hat_ed_emax_111.csv', header=None)"
   ]
  },
  {
   "cell_type": "code",
   "execution_count": 3,
   "metadata": {
    "metadata": {}
   },
   "outputs": [],
   "source": [
    "data_n11  = np.array(df_data_n11    , ndmin=2)\n",
    "u_ar_n11  = np.array(df_data_n11[0] , ndmin=2).T/11.1\n",
    "y_ar_n11  = np.array(df_data_n11[1] , ndmin=2).T\n",
    "\n",
    "theta_hat_2o = np.array(df_theta_hat_2o, ndmin=2)\n",
    "theta_hat_ed = np.array(df_theta_hat_ed, ndmin=2)"
   ]
  },
  {
   "cell_type": "code",
   "execution_count": 4,
   "metadata": {
    "metadata": {}
   },
   "outputs": [],
   "source": [
    "nz = number_of_zeros(y_ar_n11)\n",
    "y_ar_n11 = y_ar_n11[nz-1:]\n",
    "u_ar_n11 = u_ar_n11[nz-1:]"
   ]
  },
  {
   "cell_type": "code",
   "execution_count": 5,
   "metadata": {
    "metadata": {}
   },
   "outputs": [
    {
     "data": {
      "text/plain": [
       "1199"
      ]
     },
     "execution_count": 5,
     "metadata": {},
     "output_type": "execute_result"
    }
   ],
   "source": [
    "u_ar_n11.size"
   ]
  },
  {
   "cell_type": "code",
   "execution_count": 6,
   "metadata": {
    "metadata": {}
   },
   "outputs": [
    {
     "name": "stdout",
     "output_type": "stream",
     "text": [
      "[[  0.         151.36558196]]\n"
     ]
    }
   ],
   "source": [
    "print(y_ar_n11[:2].T)"
   ]
  },
  {
   "cell_type": "code",
   "execution_count": 7,
   "metadata": {
    "metadata": {}
   },
   "outputs": [],
   "source": [
    "y_hat_2o_n11 =         estimate_output(y=y_ar_n11,u=u_ar_n11,theta=theta_hat_2o, ord=2)\n",
    "y_hat_ed_n11 = estimate_output_ed_fesc(y=y_ar_n11,u=u_ar_n11,theta=theta_hat_ed)"
   ]
  },
  {
   "cell_type": "code",
   "execution_count": 8,
   "metadata": {
    "metadata": {}
   },
   "outputs": [
    {
     "name": "stdout",
     "output_type": "stream",
     "text": [
      "Resultados validação n=11:\n",
      "ARX 2ª ordem V = 4377.360720406043\n",
      "discretizado V = 1677.635277487421\n"
     ]
    }
   ],
   "source": [
    "T1 = 0\n",
    "T2 = -1\n",
    "\n",
    "V_2o = cost_func(y_ar_n11[T1:T2], y_hat_2o_n11[T1:T2])\n",
    "V_ed = cost_func(y_ar_n11[T1:T2], y_hat_ed_n11[T1:T2])\n",
    "\n",
    "\n",
    "print('Resultados validação n=11:')\n",
    "\n",
    "print(f'ARX 2ª ordem V = {V_2o}')\n",
    "print(f'discretizado V = {V_ed}')"
   ]
  },
  {
   "cell_type": "markdown",
   "metadata": {},
   "source": [
    "# Análise dos resíduos"
   ]
  },
  {
   "cell_type": "code",
   "execution_count": 9,
   "metadata": {
    "metadata": {}
   },
   "outputs": [],
   "source": [
    "# e_t = y_t - y_hat_t\n",
    "e_2o_n11_d = y_ar_n11 - y_hat_2o_n11\n",
    "e_ed_n11_d = y_ar_n11 - y_hat_ed_n11"
   ]
  },
  {
   "cell_type": "code",
   "execution_count": 10,
   "metadata": {
    "metadata": {}
   },
   "outputs": [],
   "source": [
    "df = pd.DataFrame(e_2o_n11_d)\n",
    "df.to_csv('../data/e_2o_n11_d.csv',header=False,index=False)\n",
    "df = pd.DataFrame(e_ed_n11_d)\n",
    "df.to_csv('../data/e_ed_n11_d.csv',header=False,index=False)"
   ]
  },
  {
   "cell_type": "code",
   "execution_count": 11,
   "metadata": {
    "metadata": {}
   },
   "outputs": [],
   "source": [
    "# função de covariança como mostrada no livro\n",
    "def prev_cov(e,u,tau_size):\n",
    "    u_m = np.mean(u)\n",
    "    e_m = np.mean(e)\n",
    "    Tau = np.arange(tau_size)\n",
    "    R = np.zeros(Tau.shape)\n",
    "    for tau in Tau:\n",
    "        N = np.arange(tau,u.size)\n",
    "        for t in N:\n",
    "            R[tau] += ((e[t]-e_m) * (u[t-tau]-u_m))\n",
    "    return R / u.size"
   ]
  },
  {
   "cell_type": "code",
   "execution_count": null,
   "metadata": {},
   "outputs": [],
   "source": [
    "Y_ed, phi = build_Y_phi_ed_load_fesc(u_ar_n11,y_ar_n11)\n",
    "yk2_yk1 = -phi[:,2]\n",
    "yk22 = -phi[:,3]"
   ]
  },
  {
   "cell_type": "code",
   "execution_count": 12,
   "metadata": {
    "metadata": {}
   },
   "outputs": [],
   "source": [
    "T1 = 20\n",
    "# e * e\n",
    "R_e_ed = prev_cov(e_ed_n11_d[T1:],e_ed_n11_d[T1:],tau_size=u_ar_n11.size)\n",
    "# e * u\n",
    "R_eu_ed = prev_cov(e_ed_n11_d[T1:],u_ar_n11[T1:],tau_size=u_ar_n11.size)\n",
    "R_u_ed = prev_cov(u_ar_n11[T1:],u_ar_n11[T1:],tau_size=1)\n",
    "# e * y[k-2]y[k-1]\n",
    "R_eyk2yk1_ed = prev_cov(e_ed_n11_d[T1:],yk2_yk1[T1:],tau_size=e_ed_n11_d.size)\n",
    "R_yk2yk1_ed = prev_cov(yk2_yk1[T1:],yk2_yk1[T1:],tau_size=1)\n",
    "# e * y[k-2]**2\n",
    "R_eyk22_ed = prev_cov(e_ed_n11_d[T1:], yk22[T1:],tau_size=e_ed_n11_d.size)\n",
    "R_yk22_ed = prev_cov(yk22[T1:],yk22[T1:],tau_size=1)\n",
    "# e * u**2\n",
    "R_eu2_ed = prev_cov(e_ed_n11_d[T1:],u_ar_n11[T1:]**2,tau_size=u_ar_n11.size)\n",
    "R_u2_ed = prev_cov(u_ar_n11[T1:]**2,u_ar_n11[T1:]**2,tau_size=1)"
   ]
  },
  {
   "cell_type": "code",
   "execution_count": null,
   "metadata": {},
   "outputs": [],
   "source": [
    "corr_e_e = R_e_ed/np.abs(R_e_ed[0])\n",
    "\n",
    "corr_e_u = R_eu_ed/np.sqrt(R_e_ed[0]*R_u_ed)\n",
    "\n",
    "corr_e_yk2yk1 = R_eyk2yk1_ed/np.sqrt(R_e_ed[0]*R_yk2yk1_ed)\n",
    "\n",
    "corr_e_yk22 = R_eyk22_ed/np.sqrt(R_e_ed[0]*R_yk22_ed)\n",
    "\n",
    "corr_e_u2 = R_eu2_ed/np.sqrt(R_e_ed[0]*R_u2_ed)"
   ]
  },
  {
   "cell_type": "code",
   "execution_count": null,
   "metadata": {},
   "outputs": [],
   "source": [
    "print(corr_e_e )\n",
    "\n",
    "print(corr_e_u )\n",
    "\n",
    "print(corr_e_yk2yk1 )\n",
    "\n",
    "print(corr_e_yk22 )\n",
    "\n",
    "print(corr_e_u2 )"
   ]
  },
  {
   "cell_type": "code",
   "execution_count": null,
   "metadata": {},
   "outputs": [],
   "source": [
    "lim = 1.96/np.sqrt(u_ar_n11.size)\n",
    "print(lim)"
   ]
  },
  {
   "cell_type": "code",
   "execution_count": null,
   "metadata": {},
   "outputs": [],
   "source": [
    "t = np.arange(0,R_e_ed.size)*0.1024\n",
    "\n",
    "plt.figure(1, figsize=[15,5])\n",
    "plt.grid(True)\n",
    "plt.xticks(fontsize='xx-large')\n",
    "plt.yticks(fontsize='xx-large')\n",
    "plt.xlabel('Delay, $\\\\tau$ (s)',fontsize=25)\n",
    "plt.ylabel(\"Estimate of the\\nautocorrelation function\\nbetween residuals, $\\hat{\\delta}_{\\\\varepsilon \\\\varepsilon}^N(\\\\tau)$\",fontsize=25)\n",
    "plt.plot(t, lim*np.ones(corr_e_e.shape), color='gray', label='$\\pm 1.96/\\sqrt{N}$')\n",
    "plt.plot(t,-lim*np.ones(corr_e_e.shape), color='gray')\n",
    "plt.plot(t,corr_e_e, label='$\\hat{\\delta}_{\\\\varepsilon \\\\varepsilon}^N(\\\\tau)$')\n",
    "#plt.xlim([0,20])\n",
    "plt.legend(fontsize=20, ncol=2)\n",
    "\n",
    "plt.figure(2, figsize=[15,5])\n",
    "plt.grid(True)\n",
    "plt.xticks(fontsize='xx-large')\n",
    "plt.yticks(fontsize='xx-large')\n",
    "plt.xlabel('Delay, $\\\\tau$ (s)',fontsize=25)\n",
    "plt.ylabel(\"Estimate of the correlation\\nfunction between residuals\\nand past inputs, $\\hat{\\delta}_{\\\\varepsilon u}^N(\\\\tau)$\",fontsize=25)\n",
    "plt.plot(t, lim*np.ones(corr_e_e.shape), color='gray', label='$\\pm 1.96/\\sqrt{N}$')\n",
    "plt.plot(t,-lim*np.ones(corr_e_e.shape), color='gray')\n",
    "plt.plot(t,corr_e_u, label='$\\hat{\\delta}_{\\\\varepsilon u}^N(\\\\tau)$')\n",
    "plt.legend(fontsize=20, ncol=2)\n",
    "\n",
    "plt.figure(3, figsize=[15,5])\n",
    "plt.grid(True)\n",
    "plt.xticks(fontsize='xx-large')\n",
    "plt.yticks(fontsize='xx-large')\n",
    "plt.xlabel('Delay, $\\\\tau$ (s)',fontsize=25)\n",
    "plt.ylabel(\"Estimate of the correlation\\nfunction between residuals\\nand HOT, $\\hat{\\delta}_{\\\\varepsilon y(k-1)y(k-2)}^N(\\\\tau)$\",fontsize=25)\n",
    "plt.plot(t, lim*np.ones(corr_e_e.shape), color='gray', label='$\\pm 1.96/\\sqrt{N}$')\n",
    "plt.plot(t,-lim*np.ones(corr_e_e.shape), color='gray')\n",
    "plt.plot(t,corr_e_yk2yk1, label='$\\hat{\\delta}_{\\\\varepsilon y(k-1)y(k-2)}^N(\\\\tau)$')\n",
    "plt.legend(fontsize=20, ncol=2)\n",
    "\n",
    "plt.figure(4, figsize=[15,5])\n",
    "plt.grid(True)\n",
    "plt.xticks(fontsize='xx-large')\n",
    "plt.yticks(fontsize='xx-large')\n",
    "plt.xlabel('Delay, $\\\\tau$ (s)',fontsize=25)\n",
    "plt.ylabel(\"Estimate of the correlation\\nfunction between residuals\\nand HOT, $\\hat{\\delta}_{\\\\varepsilon y^2(k-2)}^N(\\\\tau)$\",fontsize=25)\n",
    "plt.plot(t, lim*np.ones(corr_e_e.shape), color='gray', label='$\\pm 1.96/\\sqrt{N}$')\n",
    "plt.plot(t,-lim*np.ones(corr_e_e.shape), color='gray')\n",
    "plt.plot(t,corr_e_yk22, label='$\\hat{\\delta}_{\\\\varepsilon y^2(k-2)}^N(\\\\tau)$')\n",
    "plt.legend(fontsize=20, ncol=2)\n",
    "\n",
    "plt.figure(5, figsize=[15,5])\n",
    "plt.grid(True)\n",
    "plt.xticks(fontsize='xx-large')\n",
    "plt.yticks(fontsize='xx-large')\n",
    "plt.xlabel('Delay, $\\\\tau$ (s)',fontsize=25)\n",
    "plt.ylabel(\"Estimate of the correlation\\nfunction between residuals\\nand HOT, $\\hat{\\delta}_{\\\\varepsilon u^2}^N(\\\\tau)$\",fontsize=25)\n",
    "plt.plot(t, lim*np.ones(corr_e_e.shape), color='gray', label='$\\pm 1.96/\\sqrt{N}$')\n",
    "plt.plot(t,-lim*np.ones(corr_e_e.shape), color='gray')\n",
    "plt.plot(t,corr_e_u2, label='$\\hat{\\delta}_{\\\\varepsilon u^2}^N(\\\\tau)$')\n",
    "plt.legend(fontsize=20, ncol=2)"
   ]
  },
  {
   "cell_type": "code",
   "execution_count": null,
   "metadata": {},
   "outputs": [],
   "source": [
    "t = np.arange(0,R_e_ed.size)*0.1024\n",
    "\n",
    "fig, axs = plt.subplots(5, 1, figsize=[15,33], sharex=True)\n",
    "\n",
    "axs[0].grid(True)\n",
    "axs[1].grid(True)\n",
    "axs[2].grid(True)\n",
    "axs[3].grid(True)\n",
    "axs[4].grid(True)\n",
    "\n",
    "axs[0].tick_params(labelsize='xx-large')\n",
    "axs[1].tick_params(labelsize='xx-large')\n",
    "axs[2].tick_params(labelsize='xx-large')\n",
    "axs[3].tick_params(labelsize='xx-large')\n",
    "axs[4].tick_params(labelsize='xx-large')\n",
    "\n",
    "axs[0].set_title('(a)', fontsize='xx-large')\n",
    "axs[1].set_title('(b)', fontsize='xx-large')\n",
    "axs[2].set_title('(c)', fontsize='xx-large')\n",
    "axs[3].set_title('(d)', fontsize='xx-large')\n",
    "axs[4].set_title('(e)', fontsize='xx-large')\n",
    "\n",
    "\n",
    "#axs[0].set_xlabel('Delay, $\\\\tau$ (s)',fontsize=25)\n",
    "axs[0].set_ylabel(\"Estimate of the\\nautocorrelation function\\nbetween residuals, $\\hat{\\delta}_{\\\\varepsilon \\\\varepsilon}^N(\\\\tau)$\",fontsize=25)\n",
    "axs[0].plot(t, lim*np.ones(corr_e_e.shape), color='gray', label='$\\pm 1.96/\\sqrt{N}$')\n",
    "axs[0].plot(t,-lim*np.ones(corr_e_e.shape), color='gray')\n",
    "axs[0].plot(t,corr_e_e, label='$\\hat{\\delta}_{\\\\varepsilon \\\\varepsilon}^N(\\\\tau)$')\n",
    "axs[0].legend(fontsize=20, ncol=2)\n",
    "\n",
    "\n",
    "#axs[1].set_xlabel('Delay, $\\\\tau$ (s)',fontsize=25)\n",
    "axs[1].set_ylabel(\"Estimate of the correlation\\nfunction between residuals\\nand past inputs, $\\hat{\\delta}_{\\\\varepsilon u}^N(\\\\tau)$\",fontsize=25)\n",
    "axs[1].plot(t, lim*np.ones(corr_e_e.shape), color='gray', label='$\\pm 1.96/\\sqrt{N}$')\n",
    "axs[1].plot(t,-lim*np.ones(corr_e_e.shape), color='gray')\n",
    "axs[1].plot(t,corr_e_u, label='$\\hat{\\delta}_{\\\\varepsilon u}^N(\\\\tau)$')\n",
    "axs[1].legend(fontsize=20, ncol=2)\n",
    "\n",
    "\n",
    "#axs[2].set_xlabel('Delay, $\\\\tau$ (s)',fontsize=25)\n",
    "axs[2].set_ylabel(\"Estimate of the correlation\\nfunction between residuals\\nand HOT, $\\hat{\\delta}_{\\\\varepsilon y(k-1)y(k-2)}^N(\\\\tau)$\",fontsize=25)\n",
    "axs[2].plot(t, lim*np.ones(corr_e_e.shape), color='gray', label='$\\pm 1.96/\\sqrt{N}$')\n",
    "axs[2].plot(t,-lim*np.ones(corr_e_e.shape), color='gray')\n",
    "axs[2].plot(t,corr_e_yk2yk1, label='$\\hat{\\delta}_{\\\\varepsilon y(k-1)y(k-2)}^N(\\\\tau)$')\n",
    "axs[2].legend(fontsize=20, ncol=2)\n",
    "\n",
    "\n",
    "#axs[3].set_xlabel('Delay, $\\\\tau$ (s)',fontsize=25)\n",
    "axs[3].set_ylabel(\"Estimate of the correlation\\nfunction between residuals\\nand HOT, $\\hat{\\delta}_{\\\\varepsilon y^2(k-2)}^N(\\\\tau)$\",fontsize=25)\n",
    "axs[3].plot(t, lim*np.ones(corr_e_e.shape), color='gray', label='$\\pm 1.96/\\sqrt{N}$')\n",
    "axs[3].plot(t,-lim*np.ones(corr_e_e.shape), color='gray')\n",
    "axs[3].plot(t,corr_e_yk22, label='$\\hat{\\delta}_{\\\\varepsilon y^2(k-2)}^N(\\\\tau)$')\n",
    "axs[3].legend(fontsize=20, ncol=2)\n",
    "\n",
    "\n",
    "axs[4].set_xlabel('Delay, $\\\\tau$ (s)',fontsize=25)\n",
    "axs[4].set_ylabel(\"Estimate of the correlation\\nfunction between residuals\\nand HOT, $\\hat{\\delta}_{\\\\varepsilon u^2}^N(\\\\tau)$\",fontsize=25)\n",
    "axs[4].plot(t, lim*np.ones(corr_e_e.shape), color='gray', label='$\\pm 1.96/\\sqrt{N}$')\n",
    "axs[4].plot(t,-lim*np.ones(corr_e_e.shape), color='gray')\n",
    "axs[4].plot(t,corr_e_u2, label='$\\hat{\\delta}_{\\\\varepsilon u^2}^N(\\\\tau)$')\n",
    "axs[4].legend(fontsize=20, ncol=2)"
   ]
  }
 ],
 "metadata": {
  "kernelspec": {
   "display_name": "Python 3",
   "language": "python",
   "name": "python3"
  },
  "language_info": {
   "codemirror_mode": {
    "name": "ipython",
    "version": 3
   },
   "file_extension": ".py",
   "mimetype": "text/x-python",
   "name": "python",
   "nbconvert_exporter": "python",
   "pygments_lexer": "ipython3",
   "version": "3.10.12"
  }
 },
 "nbformat": 4,
 "nbformat_minor": 2
}
